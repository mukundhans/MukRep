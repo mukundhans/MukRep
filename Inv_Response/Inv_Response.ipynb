{
 "cells": [
  {
   "cell_type": "code",
   "execution_count": 1,
   "metadata": {},
   "outputs": [
    {
     "name": "stderr",
     "output_type": "stream",
     "text": [
      "/home/mukundhan/anaconda3/lib/python3.6/site-packages/sklearn/cross_validation.py:41: DeprecationWarning: This module was deprecated in version 0.18 in favor of the model_selection module into which all the refactored classes and functions are moved. Also note that the interface of the new CV iterators are different from that of this module. This module will be removed in 0.20.\n",
      "  \"This module will be removed in 0.20.\", DeprecationWarning)\n"
     ]
    }
   ],
   "source": [
    "import pandas as pd\n",
    "import numpy as np\n",
    "import string as str\n",
    "import sklearn.metrics as met\n",
    "import sklearn.model_selection as ms\n",
    "import sklearn.linear_model as linmod\n",
    "import seaborn as sns"
   ]
  },
  {
   "cell_type": "code",
   "execution_count": 16,
   "metadata": {},
   "outputs": [
    {
     "name": "stdout",
     "output_type": "stream",
     "text": [
      "        CDA_RESPONSE  THER_AREA_NUM  REGION_NUM  ICON_PREF_FLG  CDA_SENT_DAY  \\\n",
      "0                  1              7           2              0             7   \n",
      "1                  1              7           2              0             1   \n",
      "2                  1              7           2              0             7   \n",
      "3                  1              7           2              0             7   \n",
      "4                  0              7           2              0             3   \n",
      "5                  0              3           1              0             7   \n",
      "6                  0              6           3              0             7   \n",
      "7                  1              4           1              0             7   \n",
      "8                  1              3           1              0             7   \n",
      "9                  1              4           2              0             7   \n",
      "10                 0              6           3              0             7   \n",
      "11                 1              3           1              0             7   \n",
      "12                 0              6           1              0             3   \n",
      "13                 0              6           1              0             3   \n",
      "14                 1              6           1              0             3   \n",
      "15                 1              6           1              0             3   \n",
      "16                 0              6           2              0             3   \n",
      "17                 0              6           2              0             3   \n",
      "18                 0              2           2              0             7   \n",
      "19                 1              7           2              0             3   \n",
      "20                 1              4           2              0             7   \n",
      "21                 0              7           2              0             3   \n",
      "22                 0              3           1              0             7   \n",
      "23                 1              3           1              0             7   \n",
      "24                 1              3           1              0             7   \n",
      "25                 1              3           1              1             3   \n",
      "26                 1              0           1              1             7   \n",
      "27                 1              3           1              1             7   \n",
      "28                 0              3           1              1             7   \n",
      "29                 1              3           1              1             7   \n",
      "...              ...            ...         ...            ...           ...   \n",
      "142834             0              2           2              0             7   \n",
      "142835             0              6           3              0             1   \n",
      "142836             0              6           3              0             7   \n",
      "142837             0              6           3              0             7   \n",
      "142838             0              6           3              0             7   \n",
      "142839             0              6           3              0             7   \n",
      "142840             0              6           3              0             7   \n",
      "142841             0              6           3              0             7   \n",
      "142842             0              6           3              0             7   \n",
      "142843             0              7           2              0             7   \n",
      "142844             0              0           1              0             3   \n",
      "142845             0              0           1              0             3   \n",
      "142846             1              7           1              0             7   \n",
      "142847             0              3           1              0             3   \n",
      "142848             1              2           2              0             7   \n",
      "142849             1              3           1              0             7   \n",
      "142850             0              3           1              0             7   \n",
      "142851             0              3           1              0             7   \n",
      "142852             0              3           1              0             7   \n",
      "142853             0              3           1              0             7   \n",
      "142854             0              3           1              0             7   \n",
      "142855             0              3           1              0             7   \n",
      "142856             0              3           1              0             7   \n",
      "142857             0              3           1              0             7   \n",
      "142858             0              3           1              0             7   \n",
      "142859             0              2           2              0             7   \n",
      "142860             0              0           1              0             7   \n",
      "142861             1              3           1              0             3   \n",
      "142862             0              6           3              0             7   \n",
      "142863             1              6           3              0             7   \n",
      "\n",
      "        ICON_STUDY_CNT  ICON_STUDY_YEARS  OPEN_STUDIES_CNT  STUDY_CNT  \\\n",
      "0                    3                 4                 0         18   \n",
      "1                    1                 1                 0         17   \n",
      "2                    1                 1                 0         13   \n",
      "3                    1                 1                 0         14   \n",
      "4                    1                 1                 0         13   \n",
      "5                    1                 3                 0          1   \n",
      "6                    0                 0                 1          7   \n",
      "7                    0                 0                 0          6   \n",
      "8                    0                 0                 0          0   \n",
      "9                    0                 0                 0          0   \n",
      "10                   0                 0                 0          0   \n",
      "11                   0                 0                 2          8   \n",
      "12                   0                 0                 0          5   \n",
      "13                   0                 0                 0          4   \n",
      "14                   0                 0                 1          4   \n",
      "15                   0                 0                 1          3   \n",
      "16                   0                 0                 1          1   \n",
      "17                   0                 0                 0          3   \n",
      "18                   1                 3                 0          8   \n",
      "19                   0                 0                 0          3   \n",
      "20                   0                 0                 0          3   \n",
      "21                   0                 0                 1         15   \n",
      "22                   1                 2                 0          1   \n",
      "23                   1                 2                 0          1   \n",
      "24                   1                 2                 0          1   \n",
      "25                   3                 4                 0         14   \n",
      "26                   3                 4                 0         17   \n",
      "27                   9                 9                 1         23   \n",
      "28                   3                 4                 0         14   \n",
      "29                   3                 4                 0         14   \n",
      "...                ...               ...               ...        ...   \n",
      "142834               0                 0                 0          0   \n",
      "142835               0                 0                 0          0   \n",
      "142836               0                 0                 0          0   \n",
      "142837               0                 0                 0          0   \n",
      "142838               0                 0                 0          0   \n",
      "142839               0                 0                 0          0   \n",
      "142840               0                 0                 0          0   \n",
      "142841               0                 0                 0          0   \n",
      "142842               0                 0                 0          0   \n",
      "142843               0                 0                 0          0   \n",
      "142844               0                 0                 0          0   \n",
      "142845               0                 0                 0          0   \n",
      "142846               0                 0                 0          0   \n",
      "142847               0                 0                 0          0   \n",
      "142848               0                 0                 0          0   \n",
      "142849               0                 0                 0          0   \n",
      "142850               0                 0                 0          0   \n",
      "142851               0                 0                 0          0   \n",
      "142852               0                 0                 0          0   \n",
      "142853               0                 0                 0          0   \n",
      "142854               0                 0                 0          0   \n",
      "142855               0                 0                 0          0   \n",
      "142856               0                 0                 0          0   \n",
      "142857               0                 0                 0          0   \n",
      "142858               0                 0                 0          0   \n",
      "142859               0                 0                 0          0   \n",
      "142860               0                 0                 0          0   \n",
      "142861               0                 0                 0          0   \n",
      "142862               0                 0                 0          0   \n",
      "142863               0                 0                 0          0   \n",
      "\n",
      "        STUDY_YEARS  INV_AGE  PRIOR_CONTACT_RESP_CNT  \\\n",
      "0                22        1                       1   \n",
      "1                20        1                       0   \n",
      "2                13        1                       0   \n",
      "3                15        1                       1   \n",
      "4                13        1                       1   \n",
      "5                 3        5                       0   \n",
      "6                13        1                       0   \n",
      "7                10        1                       0   \n",
      "8                 0       18                       0   \n",
      "9                 0       18                       0   \n",
      "10                0       18                       0   \n",
      "11               10        1                       0   \n",
      "12               11        8                       0   \n",
      "13                8        1                       0   \n",
      "14               11        1                       0   \n",
      "15                3        3                       0   \n",
      "16                5       10                       0   \n",
      "17                8        8                       0   \n",
      "18               12        8                       0   \n",
      "19               14        4                       0   \n",
      "20               14        5                       0   \n",
      "21               14        3                       0   \n",
      "22                2        3                       2   \n",
      "23                2        2                       0   \n",
      "24                2        2                       1   \n",
      "25                9        1                       0   \n",
      "26               11        1                       2   \n",
      "27               14        1                       3   \n",
      "28                9        1                       2   \n",
      "29                9        1                       1   \n",
      "...             ...      ...                     ...   \n",
      "142834            0       19                       0   \n",
      "142835            0       19                       0   \n",
      "142836            0       19                       0   \n",
      "142837            0       19                       0   \n",
      "142838            0       19                       0   \n",
      "142839            0       19                       0   \n",
      "142840            0       19                       0   \n",
      "142841            0       19                       0   \n",
      "142842            0       19                       0   \n",
      "142843            0       19                       0   \n",
      "142844            0       19                       0   \n",
      "142845            0       19                       0   \n",
      "142846            0       18                       0   \n",
      "142847            0       19                       0   \n",
      "142848            0       19                       0   \n",
      "142849            0       19                       0   \n",
      "142850            0       19                       0   \n",
      "142851            0       19                       0   \n",
      "142852            0       19                       0   \n",
      "142853            0       19                       0   \n",
      "142854            0       19                       0   \n",
      "142855            0       19                       0   \n",
      "142856            0       19                       0   \n",
      "142857            0       19                       0   \n",
      "142858            0       19                       0   \n",
      "142859            0       19                       0   \n",
      "142860            0       19                       0   \n",
      "142861            0       19                       0   \n",
      "142862            0       19                       0   \n",
      "142863            0       19                       0   \n",
      "\n",
      "        PRIOR_CONTACT_NO_RESP_CNT  PRIOR_CONTACT_FLG  \n",
      "0                               0                  1  \n",
      "1                               0                  0  \n",
      "2                               0                  0  \n",
      "3                               1                  1  \n",
      "4                               0                  1  \n",
      "5                               0                  0  \n",
      "6                               0                  0  \n",
      "7                               0                  0  \n",
      "8                               0                  0  \n",
      "9                               0                  0  \n",
      "10                              0                  0  \n",
      "11                              0                  0  \n",
      "12                              0                  0  \n",
      "13                              0                  0  \n",
      "14                              0                  0  \n",
      "15                              0                  0  \n",
      "16                              0                  0  \n",
      "17                              0                  0  \n",
      "18                              0                  0  \n",
      "19                              0                  0  \n",
      "20                              0                  0  \n",
      "21                              0                  0  \n",
      "22                              0                  1  \n",
      "23                              0                  0  \n",
      "24                              0                  1  \n",
      "25                              0                  0  \n",
      "26                              1                  1  \n",
      "27                              1                  1  \n",
      "28                              0                  1  \n",
      "29                              0                  1  \n",
      "...                           ...                ...  \n",
      "142834                          0                  0  \n",
      "142835                          0                  0  \n",
      "142836                          0                  0  \n",
      "142837                          0                  0  \n",
      "142838                          0                  0  \n",
      "142839                          0                  0  \n",
      "142840                          0                  0  \n",
      "142841                          0                  0  \n",
      "142842                          0                  0  \n",
      "142843                          0                  0  \n",
      "142844                          0                  0  \n",
      "142845                          0                  0  \n",
      "142846                          0                  0  \n",
      "142847                          0                  0  \n",
      "142848                          0                  0  \n",
      "142849                          0                  0  \n",
      "142850                          0                  0  \n",
      "142851                          0                  0  \n",
      "142852                          0                  0  \n",
      "142853                          0                  0  \n",
      "142854                          0                  0  \n",
      "142855                          0                  0  \n",
      "142856                          0                  0  \n",
      "142857                          0                  0  \n",
      "142858                          0                  0  \n",
      "142859                          0                  0  \n",
      "142860                          0                  0  \n",
      "142861                          0                  0  \n",
      "142862                          0                  0  \n",
      "142863                          0                  0  \n",
      "\n",
      "[142864 rows x 14 columns]\n"
     ]
    }
   ],
   "source": [
    "df = pd.read_csv(\"export.csv\")\n",
    "print(df)"
   ]
  },
  {
   "cell_type": "code",
   "execution_count": 22,
   "metadata": {},
   "outputs": [
    {
     "name": "stdout",
     "output_type": "stream",
     "text": [
      "Shape=  (142864, 10)\n",
      "------------------------------- INFO --------------------------------------------------------\n",
      "<class 'pandas.core.frame.DataFrame'>\n",
      "RangeIndex: 142864 entries, 0 to 142863\n",
      "Data columns (total 10 columns):\n",
      "CDA_RESPONSE              142864 non-null int64\n",
      "THER_AREA_NUM             142864 non-null int64\n",
      "REGION_NUM                142864 non-null int64\n",
      "ICON_PREF_FLG             142864 non-null int64\n",
      "CDA_SENT_DAY              142864 non-null int64\n",
      "ICON_STUDY_CNT            142864 non-null int64\n",
      "OPEN_STUDIES_CNT          142864 non-null int64\n",
      "STUDY_CNT                 142864 non-null int64\n",
      "INV_AGE                   142864 non-null int64\n",
      "PRIOR_CONTACT_RESP_CNT    142864 non-null int64\n",
      "dtypes: int64(10)\n",
      "memory usage: 10.9 MB\n",
      "None\n",
      "------------------------------- DESCRIBE ------------------------------------------------------\n",
      "        CDA_RESPONSE  THER_AREA_NUM     REGION_NUM  ICON_PREF_FLG  \\\n",
      "count  142864.000000  142864.000000  142864.000000  142864.000000   \n",
      "mean        0.505103       4.778741       1.667390       0.027530   \n",
      "std         0.499976       2.172141       0.613694       0.163621   \n",
      "min         0.000000       0.000000       1.000000       0.000000   \n",
      "25%         0.000000       3.000000       1.000000       0.000000   \n",
      "50%         1.000000       5.000000       2.000000       0.000000   \n",
      "75%         1.000000       7.000000       2.000000       0.000000   \n",
      "max         1.000000       9.000000       3.000000       1.000000   \n",
      "\n",
      "        CDA_SENT_DAY  ICON_STUDY_CNT  OPEN_STUDIES_CNT      STUDY_CNT  \\\n",
      "count  142864.000000   142864.000000     142864.000000  142864.000000   \n",
      "mean        6.262459        1.559546          0.604631      10.826996   \n",
      "std         1.585951        2.876798          2.221919      21.844293   \n",
      "min         1.000000        0.000000          0.000000       0.000000   \n",
      "25%         7.000000        0.000000          0.000000       0.000000   \n",
      "50%         7.000000        0.000000          0.000000       4.000000   \n",
      "75%         7.000000        2.000000          0.000000      12.000000   \n",
      "max         7.000000       48.000000         73.000000     549.000000   \n",
      "\n",
      "             INV_AGE  PRIOR_CONTACT_RESP_CNT  \n",
      "count  142864.000000           142864.000000  \n",
      "mean        5.204796                1.202213  \n",
      "std         6.271873                2.207589  \n",
      "min         1.000000                0.000000  \n",
      "25%         1.000000                0.000000  \n",
      "50%         1.000000                0.000000  \n",
      "75%        12.000000                2.000000  \n",
      "max        80.000000               35.000000  \n",
      "--------------------------------Nan Count -----------------------------------------------------\n",
      "CDA_RESPONSE              0\n",
      "THER_AREA_NUM             0\n",
      "REGION_NUM                0\n",
      "ICON_PREF_FLG             0\n",
      "CDA_SENT_DAY              0\n",
      "ICON_STUDY_CNT            0\n",
      "OPEN_STUDIES_CNT          0\n",
      "STUDY_CNT                 0\n",
      "INV_AGE                   0\n",
      "PRIOR_CONTACT_RESP_CNT    0\n",
      "dtype: int64\n",
      "--------------------------------------------------------------------------------------------\n",
      "Full duplicate count=  80084\n"
     ]
    }
   ],
   "source": [
    "print('Shape= ', df.shape)\n",
    "print('------------------------------- INFO --------------------------------------------------------')\n",
    "print(df.info()) #Find features which are not int/float, as they will need to be converted\n",
    "print('------------------------------- DESCRIBE ------------------------------------------------------')\n",
    "print(df.describe())\n",
    "print('--------------------------------Nan Count -----------------------------------------------------')\n",
    "print(df.isna().sum())\n",
    "print('--------------------------------------------------------------------------------------------')\n",
    "print('Full duplicate count= ', sum(df.duplicated()))"
   ]
  },
  {
   "cell_type": "code",
   "execution_count": 3,
   "metadata": {},
   "outputs": [],
   "source": [
    "#Remove full duplicate rows\n",
    "df.drop_duplicates(inplace=True)"
   ]
  },
  {
   "cell_type": "code",
   "execution_count": 19,
   "metadata": {},
   "outputs": [],
   "source": [
    "df.drop(columns=['STUDY_YEARS', 'ICON_STUDY_YEARS', 'PRIOR_CONTACT_NO_RESP_CNT', 'PRIOR_CONTACT_FLG'], inplace=True)"
   ]
  },
  {
   "cell_type": "code",
   "execution_count": 105,
   "metadata": {},
   "outputs": [
    {
     "data": {
      "text/plain": [
       "<matplotlib.axes._subplots.AxesSubplot at 0x7f97601ff668>"
      ]
     },
     "execution_count": 105,
     "metadata": {},
     "output_type": "execute_result"
    },
    {
     "data": {
      "image/png": "[encoded data removed]",
      "text/plain": [
       "<Figure size 432x288 with 1 Axes>"
      ]
     },
     "metadata": {},
     "output_type": "display_data"
    }
   ],
   "source": [
    "sns.boxplot(x=df[\"ICON_PREF_FLG\"])"
   ]
  },
  {
   "cell_type": "code",
   "execution_count": 6,
   "metadata": {},
   "outputs": [
    {
     "data": {
      "text/plain": [
       "0"
      ]
     },
     "execution_count": 6,
     "metadata": {},
     "output_type": "execute_result"
    }
   ],
   "source": [
    "df['CDA_RESPONSE'].isna().sum()"
   ]
  },
  {
   "cell_type": "code",
   "execution_count": 20,
   "metadata": {},
   "outputs": [
    {
     "name": "stdout",
     "output_type": "stream",
     "text": [
      "********  CDA_RESPONSE  *********\n",
      "\t ++ No outliers or negative values or NaNs\n",
      "********  THER_AREA_NUM  *********\n",
      "\t ++ No outliers or negative values or NaNs\n",
      "********  REGION_NUM  *********\n",
      "\t ++ No outliers or negative values or NaNs\n",
      "********  ICON_PREF_FLG  *********\n",
      "\t --  3933  Outliers exist\n",
      "********  CDA_SENT_DAY  *********\n",
      "\t --  25693  Outliers exist\n",
      "********  ICON_STUDY_CNT  *********\n",
      "\t --  11029  Outliers exist\n",
      "********  OPEN_STUDIES_CNT  *********\n",
      "\t --  28437  Outliers exist\n",
      "********  STUDY_CNT  *********\n",
      "\t --  13390  Outliers exist\n",
      "********  INV_AGE  *********\n",
      "\t --  1  Outliers exist\n",
      "********  PRIOR_CONTACT_RESP_CNT  *********\n",
      "\t --  7272  Outliers exist\n"
     ]
    }
   ],
   "source": [
    "for c in df.columns:\n",
    "    df1 = pd.DataFrame(df[c])\n",
    "    issue_flg = 0\n",
    "        \n",
    "    if df1[c].dtype != 'object':\n",
    "        print('******** ', c, ' *********')\n",
    "        q1 = df1[c].quantile(0.25)\n",
    "        q3 = df1[c].quantile(0.75)\n",
    "        iqr = q3 - q1\n",
    "        low = q1 - (iqr * 1.5)\n",
    "        high = q3 + (iqr * 1.5)\n",
    "        avg = df1[c].mean()\n",
    "        #print('avg= ', avg, 'low= ', low, 'upper= ', high)\n",
    "        \n",
    "        # Check for any negative values\n",
    "        if df1[df1[c] < 0][c].count() > 0:\n",
    "            issue_flg = 1\n",
    "            print('\\t -- Negative values exist')\n",
    "            \n",
    "        # Check for any Outliers\n",
    "        outliers_cnt = df1[(df1[c] < low) | (df1[c] > high)][c].count()  \n",
    "        if  outliers_cnt > 0:\n",
    "            issue_flg = 1\n",
    "            print('\\t -- ', outliers_cnt, ' Outliers exist')\n",
    "        \n",
    "        # Check for any Nan values\n",
    "        nan_cnt = df[c].isna().sum()\n",
    "        if nan_cnt > 0:\n",
    "            issue_flg = 1\n",
    "            print('\\t -- ', nan_cnt, ' NaNs exist')            \n",
    "        \n",
    "        # Check if any issues found with the column\n",
    "        if issue_flg == 0:\n",
    "            print('\\t ++ No outliers or negative values or NaNs')"
   ]
  },
  {
   "cell_type": "code",
   "execution_count": 106,
   "metadata": {},
   "outputs": [
    {
     "data": {
      "text/plain": [
       "0    4726\n",
       "1     953\n",
       "Name: ICON_PREF_FLG, dtype: int64"
      ]
     },
     "execution_count": 106,
     "metadata": {},
     "output_type": "execute_result"
    }
   ],
   "source": [
    "df.ICON_PREF_FLG.value_counts()"
   ]
  },
  {
   "cell_type": "code",
   "execution_count": 7,
   "metadata": {},
   "outputs": [],
   "source": [
    "df.loc[(df['OPEN_STUDIES_CNT'] > 30), 'OPEN_STUDIES_CNT1'] = 1\n",
    "df.loc[(df['OPEN_STUDIES_CNT'] >= 20) & (df['OPEN_STUDIES_CNT'] < 30), 'OPEN_STUDIES_CNT1'] = 2\n",
    "df.loc[(df['OPEN_STUDIES_CNT'] >= 10) & (df['OPEN_STUDIES_CNT'] < 20), 'OPEN_STUDIES_CNT1'] = 3\n",
    "df.loc[(df['OPEN_STUDIES_CNT'] >= 5) & (df['OPEN_STUDIES_CNT'] < 10), 'OPEN_STUDIES_CNT1'] = 4\n",
    "df.loc[(df['OPEN_STUDIES_CNT'] < 5), 'OPEN_STUDIES_CNT1'] = 5\n",
    "\n",
    "df.drop('OPEN_STUDIES_CNT', axis='columns', inplace=True)\n",
    "df.rename(columns = {'OPEN_STUDIES_CNT1':'OPEN_STUDIES_CNT'}, inplace=True)  "
   ]
  },
  {
   "cell_type": "code",
   "execution_count": 8,
   "metadata": {},
   "outputs": [],
   "source": [
    "df.loc[(df['STUDY_CNT'] > 100), 'STUDY_CNT1'] = 6\n",
    "df.loc[(df['STUDY_CNT'] >= 50) & (df['STUDY_CNT'] < 100), 'STUDY_CNT1'] = 5\n",
    "df.loc[(df['STUDY_CNT'] >= 25) & (df['STUDY_CNT'] < 50), 'STUDY_CNT1'] = 4\n",
    "df.loc[(df['STUDY_CNT'] >= 10) & (df['STUDY_CNT'] < 25), 'STUDY_CNT1'] = 3\n",
    "df.loc[(df['STUDY_CNT'] >= 5) & (df['STUDY_CNT'] < 10), 'STUDY_CNT1'] = 2       \n",
    "df.loc[(df['STUDY_CNT'] < 5), 'STUDY_CNT1'] = 1\n",
    "\n",
    "df.drop('STUDY_CNT', axis='columns', inplace=True)\n",
    "df.rename(columns = {'STUDY_CNT1': 'STUDY_CNT'}, inplace=True)"
   ]
  },
  {
   "cell_type": "code",
   "execution_count": 9,
   "metadata": {},
   "outputs": [],
   "source": [
    "df.loc[(df['ICON_STUDY_CNT'] > 30), 'ICON_STUDY_CNT1'] = 6\n",
    "df.loc[(df['ICON_STUDY_CNT'] >= 20) & (df['ICON_STUDY_CNT'] < 30), 'ICON_STUDY_CNT1'] = 5\n",
    "df.loc[(df['ICON_STUDY_CNT'] >= 15) & (df['ICON_STUDY_CNT'] < 20), 'ICON_STUDY_CNT1'] = 4\n",
    "df.loc[(df['ICON_STUDY_CNT'] >= 10) & (df['ICON_STUDY_CNT'] < 15), 'ICON_STUDY_CNT1'] = 3\n",
    "df.loc[(df['ICON_STUDY_CNT'] >= 5) & (df['ICON_STUDY_CNT'] < 10), 'ICON_STUDY_CNT1'] = 2       \n",
    "df.loc[(df['ICON_STUDY_CNT'] < 5), 'ICON_STUDY_CNT1'] = 1\n",
    "\n",
    "df.drop('ICON_STUDY_CNT', axis='columns', inplace=True)\n",
    "df.rename(columns = {'ICON_STUDY_CNT1': 'ICON_STUDY_CNT'}, inplace=True)"
   ]
  },
  {
   "cell_type": "code",
   "execution_count": 10,
   "metadata": {},
   "outputs": [],
   "source": [
    "df.loc[(df['INV_AGE'] > 100), 'INV_AGE1'] = 1\n",
    "df.loc[(df['INV_AGE'] >= 75) & (df['INV_AGE'] < 100), 'INV_AGE1'] = 2\n",
    "df.loc[(df['INV_AGE'] >= 50) & (df['INV_AGE'] < 75), 'INV_AGE1'] = 3\n",
    "df.loc[(df['INV_AGE'] >= 40) & (df['INV_AGE'] < 30), 'INV_AGE1'] = 4\n",
    "df.loc[(df['INV_AGE'] >= 30) & (df['INV_AGE'] < 20), 'INV_AGE1'] = 5\n",
    "df.loc[(df['INV_AGE'] >= 20) & (df['INV_AGE'] < 10), 'INV_AGE1'] = 6\n",
    "df.loc[(df['INV_AGE'] >= 7) & (df['INV_AGE'] < 10), 'INV_AGE1'] = 7\n",
    "df.loc[(df['INV_AGE'] >= 4) & (df['INV_AGE'] < 7), 'INV_AGE1'] = 8\n",
    "df.loc[(df['INV_AGE'] < 4), 'INV_AGE1'] = 9\n",
    "\n",
    "df.drop('INV_AGE', axis='columns', inplace=True)\n",
    "df.rename(columns = {'INV_AGE1': 'INV_AGE'}, inplace=True)"
   ]
  },
  {
   "cell_type": "code",
   "execution_count": 11,
   "metadata": {},
   "outputs": [],
   "source": [
    "df.loc[(df['PRIOR_CONTACT_RESP_CNT'] > 25), 'PRIOR_CONTACT_RESP_CNT1'] = 5\n",
    "df.loc[(df['PRIOR_CONTACT_RESP_CNT'] >= 15) & (df['PRIOR_CONTACT_RESP_CNT'] < 25), 'PRIOR_CONTACT_RESP_CNT1'] = 4\n",
    "df.loc[(df['PRIOR_CONTACT_RESP_CNT'] >= 10) & (df['PRIOR_CONTACT_RESP_CNT'] < 15), 'PRIOR_CONTACT_RESP_CNT1'] = 3\n",
    "df.loc[(df['PRIOR_CONTACT_RESP_CNT'] >= 5) & (df['PRIOR_CONTACT_RESP_CNT'] < 10), 'PRIOR_CONTACT_RESP_CNT1'] = 2\n",
    "df.loc[(df['PRIOR_CONTACT_RESP_CNT'] < 5), 'PRIOR_CONTACT_RESP_CNT1'] = 1\n",
    "\n",
    "df.drop('PRIOR_CONTACT_RESP_CNT', axis='columns', inplace=True)\n",
    "df.rename(columns = {'PRIOR_CONTACT_RESP_CNT1': 'PRIOR_CONTACT_RESP_CNT'}, inplace=True)"
   ]
  },
  {
   "cell_type": "code",
   "execution_count": 12,
   "metadata": {},
   "outputs": [],
   "source": [
    "df.drop(columns=['STUDY_YEARS', 'ICON_STUDY_YEARS', 'PRIOR_CONTACT_NO_RESP_CNT', 'PRIOR_CONTACT_FLG'], inplace=True)"
   ]
  },
  {
   "cell_type": "code",
   "execution_count": 122,
   "metadata": {},
   "outputs": [],
   "source": [
    "df['INV_AGE'].fillna(df['INV_AGE'].mode()[0], inplace=True)\n",
    "df['OPEN_STUDIES_CNT'].fillna(df['OPEN_STUDIES_CNT'].mode()[0], inplace=True)\n",
    "df['STUDY_CNT'].fillna(df['STUDY_CNT'].mode()[0], inplace=True)\n",
    "df['ICON_STUDY_CNT'].fillna(df['ICON_STUDY_CNT'].mode()[0], inplace=True)\n",
    "df['PRIOR_CONTACT_RESP_CNT'].fillna(df['PRIOR_CONTACT_RESP_CNT'].mode()[0], inplace=True)"
   ]
  },
  {
   "cell_type": "code",
   "execution_count": 149,
   "metadata": {},
   "outputs": [
    {
     "name": "stderr",
     "output_type": "stream",
     "text": [
      "/home/mukundhan/anaconda3/lib/python3.6/site-packages/ipykernel_launcher.py:1: RuntimeWarning: divide by zero encountered in log\n",
      "  \"\"\"Entry point for launching an IPython kernel.\n"
     ]
    }
   ],
   "source": [
    "df1 = np.log(df.loc[:, 'THER_AREA_NUM'])"
   ]
  },
  {
   "cell_type": "code",
   "execution_count": 151,
   "metadata": {},
   "outputs": [
    {
     "data": {
      "text/html": [
       "<div>\n",
       "<style scoped>\n",
       "    .dataframe tbody tr th:only-of-type {\n",
       "        vertical-align: middle;\n",
       "    }\n",
       "\n",
       "    .dataframe tbody tr th {\n",
       "        vertical-align: top;\n",
       "    }\n",
       "\n",
       "    .dataframe thead th {\n",
       "        text-align: right;\n",
       "    }\n",
       "</style>\n",
       "<table border=\"1\" class=\"dataframe\">\n",
       "  <thead>\n",
       "    <tr style=\"text-align: right;\">\n",
       "      <th></th>\n",
       "      <th>CDA_RESPONSE</th>\n",
       "      <th>THER_AREA_NUM</th>\n",
       "      <th>REGION_NUM</th>\n",
       "      <th>ICON_PREF_FLG</th>\n",
       "      <th>CDA_SENT_DAY</th>\n",
       "      <th>OPEN_STUDIES_CNT</th>\n",
       "      <th>STUDY_CNT</th>\n",
       "      <th>ICON_STUDY_CNT</th>\n",
       "      <th>INV_AGE</th>\n",
       "      <th>PRIOR_CONTACT_RESP_CNT</th>\n",
       "    </tr>\n",
       "  </thead>\n",
       "  <tbody>\n",
       "    <tr>\n",
       "      <th>CDA_RESPONSE</th>\n",
       "      <td>1.000000</td>\n",
       "      <td>0.020344</td>\n",
       "      <td>-0.000445</td>\n",
       "      <td>0.045744</td>\n",
       "      <td>-0.023184</td>\n",
       "      <td>0.038137</td>\n",
       "      <td>0.000339</td>\n",
       "      <td>0.057460</td>\n",
       "      <td>0.036561</td>\n",
       "      <td>0.106936</td>\n",
       "    </tr>\n",
       "    <tr>\n",
       "      <th>THER_AREA_NUM</th>\n",
       "      <td>0.020344</td>\n",
       "      <td>1.000000</td>\n",
       "      <td>-0.001265</td>\n",
       "      <td>0.005324</td>\n",
       "      <td>-0.063043</td>\n",
       "      <td>-0.242601</td>\n",
       "      <td>0.111778</td>\n",
       "      <td>-0.051836</td>\n",
       "      <td>0.020838</td>\n",
       "      <td>0.018808</td>\n",
       "    </tr>\n",
       "    <tr>\n",
       "      <th>REGION_NUM</th>\n",
       "      <td>-0.000445</td>\n",
       "      <td>-0.001265</td>\n",
       "      <td>1.000000</td>\n",
       "      <td>-0.102961</td>\n",
       "      <td>-0.053215</td>\n",
       "      <td>0.064205</td>\n",
       "      <td>-0.143209</td>\n",
       "      <td>-0.244184</td>\n",
       "      <td>-0.046297</td>\n",
       "      <td>-0.095844</td>\n",
       "    </tr>\n",
       "    <tr>\n",
       "      <th>ICON_PREF_FLG</th>\n",
       "      <td>0.045744</td>\n",
       "      <td>0.005324</td>\n",
       "      <td>-0.102961</td>\n",
       "      <td>1.000000</td>\n",
       "      <td>0.081964</td>\n",
       "      <td>0.087023</td>\n",
       "      <td>-0.083816</td>\n",
       "      <td>-0.052416</td>\n",
       "      <td>0.039278</td>\n",
       "      <td>-0.099493</td>\n",
       "    </tr>\n",
       "    <tr>\n",
       "      <th>CDA_SENT_DAY</th>\n",
       "      <td>-0.023184</td>\n",
       "      <td>-0.063043</td>\n",
       "      <td>-0.053215</td>\n",
       "      <td>0.081964</td>\n",
       "      <td>1.000000</td>\n",
       "      <td>-0.042939</td>\n",
       "      <td>0.086069</td>\n",
       "      <td>0.169578</td>\n",
       "      <td>0.013334</td>\n",
       "      <td>0.148065</td>\n",
       "    </tr>\n",
       "    <tr>\n",
       "      <th>OPEN_STUDIES_CNT</th>\n",
       "      <td>0.038137</td>\n",
       "      <td>-0.242601</td>\n",
       "      <td>0.064205</td>\n",
       "      <td>0.087023</td>\n",
       "      <td>-0.042939</td>\n",
       "      <td>1.000000</td>\n",
       "      <td>-0.354618</td>\n",
       "      <td>-0.007320</td>\n",
       "      <td>-0.112590</td>\n",
       "      <td>-0.005343</td>\n",
       "    </tr>\n",
       "    <tr>\n",
       "      <th>STUDY_CNT</th>\n",
       "      <td>0.000339</td>\n",
       "      <td>0.111778</td>\n",
       "      <td>-0.143209</td>\n",
       "      <td>-0.083816</td>\n",
       "      <td>0.086069</td>\n",
       "      <td>-0.354618</td>\n",
       "      <td>1.000000</td>\n",
       "      <td>0.351591</td>\n",
       "      <td>0.289871</td>\n",
       "      <td>0.138170</td>\n",
       "    </tr>\n",
       "    <tr>\n",
       "      <th>ICON_STUDY_CNT</th>\n",
       "      <td>0.057460</td>\n",
       "      <td>-0.051836</td>\n",
       "      <td>-0.244184</td>\n",
       "      <td>-0.052416</td>\n",
       "      <td>0.169578</td>\n",
       "      <td>-0.007320</td>\n",
       "      <td>0.351591</td>\n",
       "      <td>1.000000</td>\n",
       "      <td>0.235935</td>\n",
       "      <td>0.384151</td>\n",
       "    </tr>\n",
       "    <tr>\n",
       "      <th>INV_AGE</th>\n",
       "      <td>0.036561</td>\n",
       "      <td>0.020838</td>\n",
       "      <td>-0.046297</td>\n",
       "      <td>0.039278</td>\n",
       "      <td>0.013334</td>\n",
       "      <td>-0.112590</td>\n",
       "      <td>0.289871</td>\n",
       "      <td>0.235935</td>\n",
       "      <td>1.000000</td>\n",
       "      <td>0.203629</td>\n",
       "    </tr>\n",
       "    <tr>\n",
       "      <th>PRIOR_CONTACT_RESP_CNT</th>\n",
       "      <td>0.106936</td>\n",
       "      <td>0.018808</td>\n",
       "      <td>-0.095844</td>\n",
       "      <td>-0.099493</td>\n",
       "      <td>0.148065</td>\n",
       "      <td>-0.005343</td>\n",
       "      <td>0.138170</td>\n",
       "      <td>0.384151</td>\n",
       "      <td>0.203629</td>\n",
       "      <td>1.000000</td>\n",
       "    </tr>\n",
       "  </tbody>\n",
       "</table>\n",
       "</div>"
      ],
      "text/plain": [
       "                        CDA_RESPONSE  THER_AREA_NUM  REGION_NUM  \\\n",
       "CDA_RESPONSE                1.000000       0.020344   -0.000445   \n",
       "THER_AREA_NUM               0.020344       1.000000   -0.001265   \n",
       "REGION_NUM                 -0.000445      -0.001265    1.000000   \n",
       "ICON_PREF_FLG               0.045744       0.005324   -0.102961   \n",
       "CDA_SENT_DAY               -0.023184      -0.063043   -0.053215   \n",
       "OPEN_STUDIES_CNT            0.038137      -0.242601    0.064205   \n",
       "STUDY_CNT                   0.000339       0.111778   -0.143209   \n",
       "ICON_STUDY_CNT              0.057460      -0.051836   -0.244184   \n",
       "INV_AGE                     0.036561       0.020838   -0.046297   \n",
       "PRIOR_CONTACT_RESP_CNT      0.106936       0.018808   -0.095844   \n",
       "\n",
       "                        ICON_PREF_FLG  CDA_SENT_DAY  OPEN_STUDIES_CNT  \\\n",
       "CDA_RESPONSE                 0.045744     -0.023184          0.038137   \n",
       "THER_AREA_NUM                0.005324     -0.063043         -0.242601   \n",
       "REGION_NUM                  -0.102961     -0.053215          0.064205   \n",
       "ICON_PREF_FLG                1.000000      0.081964          0.087023   \n",
       "CDA_SENT_DAY                 0.081964      1.000000         -0.042939   \n",
       "OPEN_STUDIES_CNT             0.087023     -0.042939          1.000000   \n",
       "STUDY_CNT                   -0.083816      0.086069         -0.354618   \n",
       "ICON_STUDY_CNT              -0.052416      0.169578         -0.007320   \n",
       "INV_AGE                      0.039278      0.013334         -0.112590   \n",
       "PRIOR_CONTACT_RESP_CNT      -0.099493      0.148065         -0.005343   \n",
       "\n",
       "                        STUDY_CNT  ICON_STUDY_CNT   INV_AGE  \\\n",
       "CDA_RESPONSE             0.000339        0.057460  0.036561   \n",
       "THER_AREA_NUM            0.111778       -0.051836  0.020838   \n",
       "REGION_NUM              -0.143209       -0.244184 -0.046297   \n",
       "ICON_PREF_FLG           -0.083816       -0.052416  0.039278   \n",
       "CDA_SENT_DAY             0.086069        0.169578  0.013334   \n",
       "OPEN_STUDIES_CNT        -0.354618       -0.007320 -0.112590   \n",
       "STUDY_CNT                1.000000        0.351591  0.289871   \n",
       "ICON_STUDY_CNT           0.351591        1.000000  0.235935   \n",
       "INV_AGE                  0.289871        0.235935  1.000000   \n",
       "PRIOR_CONTACT_RESP_CNT   0.138170        0.384151  0.203629   \n",
       "\n",
       "                        PRIOR_CONTACT_RESP_CNT  \n",
       "CDA_RESPONSE                          0.106936  \n",
       "THER_AREA_NUM                         0.018808  \n",
       "REGION_NUM                           -0.095844  \n",
       "ICON_PREF_FLG                        -0.099493  \n",
       "CDA_SENT_DAY                          0.148065  \n",
       "OPEN_STUDIES_CNT                     -0.005343  \n",
       "STUDY_CNT                             0.138170  \n",
       "ICON_STUDY_CNT                        0.384151  \n",
       "INV_AGE                               0.203629  \n",
       "PRIOR_CONTACT_RESP_CNT                1.000000  "
      ]
     },
     "execution_count": 151,
     "metadata": {},
     "output_type": "execute_result"
    }
   ],
   "source": [
    "df.corr()"
   ]
  },
  {
   "cell_type": "code",
   "execution_count": 150,
   "metadata": {},
   "outputs": [
    {
     "ename": "ValueError",
     "evalue": "range parameter must be finite.",
     "output_type": "error",
     "traceback": [
      "\u001b[0;31m---------------------------------------------------------------------------\u001b[0m",
      "\u001b[0;31mValueError\u001b[0m                                Traceback (most recent call last)",
      "\u001b[0;32m<ipython-input-150-bf4e0c213c2b>\u001b[0m in \u001b[0;36m<module>\u001b[0;34m()\u001b[0m\n\u001b[1;32m      1\u001b[0m \u001b[0;32mimport\u001b[0m \u001b[0mmatplotlib\u001b[0m\u001b[0;34m.\u001b[0m\u001b[0mpyplot\u001b[0m \u001b[0;32mas\u001b[0m \u001b[0mplt\u001b[0m\u001b[0;34m\u001b[0m\u001b[0m\n\u001b[1;32m      2\u001b[0m \u001b[0mget_ipython\u001b[0m\u001b[0;34m(\u001b[0m\u001b[0;34m)\u001b[0m\u001b[0;34m.\u001b[0m\u001b[0mrun_line_magic\u001b[0m\u001b[0;34m(\u001b[0m\u001b[0;34m'matplotlib'\u001b[0m\u001b[0;34m,\u001b[0m \u001b[0;34m'inline'\u001b[0m\u001b[0;34m)\u001b[0m\u001b[0;34m\u001b[0m\u001b[0m\n\u001b[0;32m----> 3\u001b[0;31m \u001b[0mdf1\u001b[0m\u001b[0;34m.\u001b[0m\u001b[0mhist\u001b[0m\u001b[0;34m(\u001b[0m\u001b[0;34m)\u001b[0m\u001b[0;34m\u001b[0m\u001b[0m\n\u001b[0m\u001b[1;32m      4\u001b[0m \u001b[0mplt\u001b[0m\u001b[0;34m.\u001b[0m\u001b[0mshow\u001b[0m\u001b[0;34m(\u001b[0m\u001b[0;34m)\u001b[0m\u001b[0;34m\u001b[0m\u001b[0m\n",
      "\u001b[0;32m~/anaconda3/lib/python3.6/site-packages/pandas/plotting/_core.py\u001b[0m in \u001b[0;36mhist_series\u001b[0;34m(self, by, ax, grid, xlabelsize, xrot, ylabelsize, yrot, figsize, bins, **kwds)\u001b[0m\n\u001b[1;32m   2479\u001b[0m         \u001b[0mvalues\u001b[0m \u001b[0;34m=\u001b[0m \u001b[0mself\u001b[0m\u001b[0;34m.\u001b[0m\u001b[0mdropna\u001b[0m\u001b[0;34m(\u001b[0m\u001b[0;34m)\u001b[0m\u001b[0;34m.\u001b[0m\u001b[0mvalues\u001b[0m\u001b[0;34m\u001b[0m\u001b[0m\n\u001b[1;32m   2480\u001b[0m \u001b[0;34m\u001b[0m\u001b[0m\n\u001b[0;32m-> 2481\u001b[0;31m         \u001b[0max\u001b[0m\u001b[0;34m.\u001b[0m\u001b[0mhist\u001b[0m\u001b[0;34m(\u001b[0m\u001b[0mvalues\u001b[0m\u001b[0;34m,\u001b[0m \u001b[0mbins\u001b[0m\u001b[0;34m=\u001b[0m\u001b[0mbins\u001b[0m\u001b[0;34m,\u001b[0m \u001b[0;34m**\u001b[0m\u001b[0mkwds\u001b[0m\u001b[0;34m)\u001b[0m\u001b[0;34m\u001b[0m\u001b[0m\n\u001b[0m\u001b[1;32m   2482\u001b[0m         \u001b[0max\u001b[0m\u001b[0;34m.\u001b[0m\u001b[0mgrid\u001b[0m\u001b[0;34m(\u001b[0m\u001b[0mgrid\u001b[0m\u001b[0;34m)\u001b[0m\u001b[0;34m\u001b[0m\u001b[0m\n\u001b[1;32m   2483\u001b[0m         \u001b[0maxes\u001b[0m \u001b[0;34m=\u001b[0m \u001b[0mnp\u001b[0m\u001b[0;34m.\u001b[0m\u001b[0marray\u001b[0m\u001b[0;34m(\u001b[0m\u001b[0;34m[\u001b[0m\u001b[0max\u001b[0m\u001b[0;34m]\u001b[0m\u001b[0;34m)\u001b[0m\u001b[0;34m\u001b[0m\u001b[0m\n",
      "\u001b[0;32m~/anaconda3/lib/python3.6/site-packages/matplotlib/__init__.py\u001b[0m in \u001b[0;36minner\u001b[0;34m(ax, *args, **kwargs)\u001b[0m\n\u001b[1;32m   1853\u001b[0m                         \u001b[0;34m\"the Matplotlib list!)\"\u001b[0m \u001b[0;34m%\u001b[0m \u001b[0;34m(\u001b[0m\u001b[0mlabel_namer\u001b[0m\u001b[0;34m,\u001b[0m \u001b[0mfunc\u001b[0m\u001b[0;34m.\u001b[0m\u001b[0m__name__\u001b[0m\u001b[0;34m)\u001b[0m\u001b[0;34m,\u001b[0m\u001b[0;34m\u001b[0m\u001b[0m\n\u001b[1;32m   1854\u001b[0m                         RuntimeWarning, stacklevel=2)\n\u001b[0;32m-> 1855\u001b[0;31m             \u001b[0;32mreturn\u001b[0m \u001b[0mfunc\u001b[0m\u001b[0;34m(\u001b[0m\u001b[0max\u001b[0m\u001b[0;34m,\u001b[0m \u001b[0;34m*\u001b[0m\u001b[0margs\u001b[0m\u001b[0;34m,\u001b[0m \u001b[0;34m**\u001b[0m\u001b[0mkwargs\u001b[0m\u001b[0;34m)\u001b[0m\u001b[0;34m\u001b[0m\u001b[0m\n\u001b[0m\u001b[1;32m   1856\u001b[0m \u001b[0;34m\u001b[0m\u001b[0m\n\u001b[1;32m   1857\u001b[0m         inner.__doc__ = _add_data_doc(inner.__doc__,\n",
      "\u001b[0;32m~/anaconda3/lib/python3.6/site-packages/matplotlib/axes/_axes.py\u001b[0m in \u001b[0;36mhist\u001b[0;34m(***failed resolving arguments***)\u001b[0m\n\u001b[1;32m   6528\u001b[0m             \u001b[0;31m# this will automatically overwrite bins,\u001b[0m\u001b[0;34m\u001b[0m\u001b[0;34m\u001b[0m\u001b[0m\n\u001b[1;32m   6529\u001b[0m             \u001b[0;31m# so that each histogram uses the same bins\u001b[0m\u001b[0;34m\u001b[0m\u001b[0;34m\u001b[0m\u001b[0m\n\u001b[0;32m-> 6530\u001b[0;31m             \u001b[0mm\u001b[0m\u001b[0;34m,\u001b[0m \u001b[0mbins\u001b[0m \u001b[0;34m=\u001b[0m \u001b[0mnp\u001b[0m\u001b[0;34m.\u001b[0m\u001b[0mhistogram\u001b[0m\u001b[0;34m(\u001b[0m\u001b[0mx\u001b[0m\u001b[0;34m[\u001b[0m\u001b[0mi\u001b[0m\u001b[0;34m]\u001b[0m\u001b[0;34m,\u001b[0m \u001b[0mbins\u001b[0m\u001b[0;34m,\u001b[0m \u001b[0mweights\u001b[0m\u001b[0;34m=\u001b[0m\u001b[0mw\u001b[0m\u001b[0;34m[\u001b[0m\u001b[0mi\u001b[0m\u001b[0;34m]\u001b[0m\u001b[0;34m,\u001b[0m \u001b[0;34m**\u001b[0m\u001b[0mhist_kwargs\u001b[0m\u001b[0;34m)\u001b[0m\u001b[0;34m\u001b[0m\u001b[0m\n\u001b[0m\u001b[1;32m   6531\u001b[0m             \u001b[0mm\u001b[0m \u001b[0;34m=\u001b[0m \u001b[0mm\u001b[0m\u001b[0;34m.\u001b[0m\u001b[0mastype\u001b[0m\u001b[0;34m(\u001b[0m\u001b[0mfloat\u001b[0m\u001b[0;34m)\u001b[0m  \u001b[0;31m# causes problems later if it's an int\u001b[0m\u001b[0;34m\u001b[0m\u001b[0m\n\u001b[1;32m   6532\u001b[0m             \u001b[0;32mif\u001b[0m \u001b[0mmlast\u001b[0m \u001b[0;32mis\u001b[0m \u001b[0;32mNone\u001b[0m\u001b[0;34m:\u001b[0m\u001b[0;34m\u001b[0m\u001b[0m\n",
      "\u001b[0;32m~/anaconda3/lib/python3.6/site-packages/numpy/lib/function_base.py\u001b[0m in \u001b[0;36mhistogram\u001b[0;34m(a, bins, range, normed, weights, density)\u001b[0m\n\u001b[1;32m    668\u001b[0m     \u001b[0;32mif\u001b[0m \u001b[0;32mnot\u001b[0m \u001b[0mnp\u001b[0m\u001b[0;34m.\u001b[0m\u001b[0mall\u001b[0m\u001b[0;34m(\u001b[0m\u001b[0mnp\u001b[0m\u001b[0;34m.\u001b[0m\u001b[0misfinite\u001b[0m\u001b[0;34m(\u001b[0m\u001b[0;34m[\u001b[0m\u001b[0mfirst_edge\u001b[0m\u001b[0;34m,\u001b[0m \u001b[0mlast_edge\u001b[0m\u001b[0;34m]\u001b[0m\u001b[0;34m)\u001b[0m\u001b[0;34m)\u001b[0m\u001b[0;34m:\u001b[0m\u001b[0;34m\u001b[0m\u001b[0m\n\u001b[1;32m    669\u001b[0m         raise ValueError(\n\u001b[0;32m--> 670\u001b[0;31m             'range parameter must be finite.')\n\u001b[0m\u001b[1;32m    671\u001b[0m     \u001b[0;32mif\u001b[0m \u001b[0mfirst_edge\u001b[0m \u001b[0;34m==\u001b[0m \u001b[0mlast_edge\u001b[0m\u001b[0;34m:\u001b[0m\u001b[0;34m\u001b[0m\u001b[0m\n\u001b[1;32m    672\u001b[0m         \u001b[0mfirst_edge\u001b[0m \u001b[0;34m-=\u001b[0m \u001b[0;36m0.5\u001b[0m\u001b[0;34m\u001b[0m\u001b[0m\n",
      "\u001b[0;31mValueError\u001b[0m: range parameter must be finite."
     ]
    },
    {
     "data": {
      "image/png": "[encoded data removed]",
      "text/plain": [
       "<Figure size 432x288 with 1 Axes>"
      ]
     },
     "metadata": {},
     "output_type": "display_data"
    }
   ],
   "source": [
    "from sklearn.preprocessing import RobustScaler\n",
    "rob_X = RobustScaler()\n",
    "X_train = rob_X.fit_transform(X_train)"
   ]
  },
  {
   "cell_type": "code",
   "execution_count": 135,
   "metadata": {},
   "outputs": [],
   "source": [
    "xcols = ['THER_AREA_NUM', 'REGION_NUM', 'ICON_PREF_FLG', 'CDA_SENT_DAY', 'OPEN_STUDIES_CNT', \n",
    "         'STUDY_CNT', 'ICON_STUDY_CNT', 'INV_AGE', 'PRIOR_CONTACT_RESP_CNT']\n",
    "\n",
    "ycol = ['CDA_RESPONSE']\n",
    "\n",
    "x = df[xcols]\n",
    "y = df[ycol]"
   ]
  },
  {
   "cell_type": "code",
   "execution_count": 136,
   "metadata": {},
   "outputs": [],
   "source": [
    "x_train, x_test, y_train, y_test = cv.train_test_split(x, y, test_size=0.3, random_state=0)"
   ]
  },
  {
   "cell_type": "code",
   "execution_count": 137,
   "metadata": {},
   "outputs": [
    {
     "data": {
      "text/plain": [
       "THER_AREA_NUM             0\n",
       "REGION_NUM                0\n",
       "ICON_PREF_FLG             0\n",
       "CDA_SENT_DAY              0\n",
       "OPEN_STUDIES_CNT          0\n",
       "STUDY_CNT                 0\n",
       "ICON_STUDY_CNT            0\n",
       "INV_AGE                   0\n",
       "PRIOR_CONTACT_RESP_CNT    0\n",
       "dtype: int64"
      ]
     },
     "execution_count": 137,
     "metadata": {},
     "output_type": "execute_result"
    }
   ],
   "source": [
    "x_train.isna().sum()"
   ]
  },
  {
   "cell_type": "code",
   "execution_count": 138,
   "metadata": {},
   "outputs": [
    {
     "name": "stderr",
     "output_type": "stream",
     "text": [
      "/home/mukundhan/anaconda3/lib/python3.6/site-packages/sklearn/utils/validation.py:578: DataConversionWarning: A column-vector y was passed when a 1d array was expected. Please change the shape of y to (n_samples, ), for example using ravel().\n",
      "  y = column_or_1d(y, warn=True)\n"
     ]
    },
    {
     "data": {
      "text/plain": [
       "LogisticRegression(C=1.0, class_weight=None, dual=False, fit_intercept=True,\n",
       "          intercept_scaling=1, max_iter=100, multi_class='ovr', n_jobs=1,\n",
       "          penalty='l2', random_state=None, solver='liblinear', tol=0.0001,\n",
       "          verbose=0, warm_start=False)"
      ]
     },
     "execution_count": 138,
     "metadata": {},
     "output_type": "execute_result"
    }
   ],
   "source": [
    "logreg = linmod.LogisticRegression()\n",
    "logreg.fit(x_train, y_train)"
   ]
  },
  {
   "cell_type": "code",
   "execution_count": 140,
   "metadata": {},
   "outputs": [
    {
     "name": "stdout",
     "output_type": "stream",
     "text": [
      "Accuracy=  0.5563380281690141\n"
     ]
    }
   ],
   "source": [
    "y_pred = logreg.predict(x_test)\n",
    "print('Accuracy= ', logreg.score(x_test, y_test))"
   ]
  },
  {
   "cell_type": "code",
   "execution_count": 141,
   "metadata": {},
   "outputs": [
    {
     "name": "stdout",
     "output_type": "stream",
     "text": [
      "[[187 579]\n",
      " [177 761]]\n"
     ]
    }
   ],
   "source": [
    "print(met.confusion_matrix(y_test, y_pred))"
   ]
  },
  {
   "cell_type": "code",
   "execution_count": null,
   "metadata": {},
   "outputs": [],
   "source": []
  }
 ],
 "metadata": {
  "kernelspec": {
   "display_name": "Python 3",
   "language": "python",
   "name": "python3"
  },
  "language_info": {
   "codemirror_mode": {
    "name": "ipython",
    "version": 3
   },
   "file_extension": ".py",
   "mimetype": "text/x-python",
   "name": "python",
   "nbconvert_exporter": "python",
   "pygments_lexer": "ipython3",
   "version": "3.6.5"
  }
 },
 "nbformat": 4,
 "nbformat_minor": 2
}
