{
 "cells": [
  {
   "cell_type": "code",
   "execution_count": 21,
   "metadata": {},
   "outputs": [],
   "source": [
    "import pandas as pd\n",
    "import numpy as np\n",
    "import string as str\n",
    "import sklearn.metrics as met\n",
    "import sklearn.model_selection as ms\n",
    "import sklearn.linear_model as linmod\n",
    "import seaborn as sns"
   ]
  },
  {
   "cell_type": "code",
   "execution_count": 3,
   "metadata": {},
   "outputs": [
    {
     "name": "stdout",
     "output_type": "stream",
     "text": [
      "    id  Marathon                     Name Category  km4week       sp4week  \\\n",
      "0    1  Prague17             Blair MORGAN      MAM    132.8     14.434783   \n",
      "1    2  Prague17            Robert Heczko      MAM     68.6     13.674419   \n",
      "2    3  Prague17            Michon Jerome      MAM     82.7     13.520436   \n",
      "3    4  Prague17            Daniel Or lek      M45    137.5     12.258544   \n",
      "4    5  Prague17             Luk ? Mr zek      MAM     84.6     13.945055   \n",
      "5    6  Prague17             David Pecina      M40     42.2     13.612903   \n",
      "6    7  Prague17             Tomas Drabek      M40     89.0     12.594340   \n",
      "7    8  Prague17                 Jan Rada      M45    106.0     12.694611   \n",
      "8    9  Prague17             Tomas Drabek      MAM     70.0     13.770492   \n",
      "9   10  Prague17          martin ?indel ?      M45     84.2     13.365079   \n",
      "10  11  Prague17           Maksim Remezau      MAM     93.5     13.200000   \n",
      "11  12  Prague17       Jaroslaw Marchewka      M50     65.7     13.362712   \n",
      "12  13  Prague17             Tom ? K?e?ek      M45     53.5     14.078947   \n",
      "13  14  Prague17              Ji?، Polcar      M40     84.4     13.836066   \n",
      "14  15  Prague17             Denis Wachtl      MAM     76.8     12.943820   \n",
      "15  16  Prague17             David Lehnen      MAM     76.1     14.970492   \n",
      "16  17  Prague17           Jپrgen Steiner      M55    112.3     12.594393   \n",
      "17  18  Prague17              David Marek      M40     49.7     14.336538   \n",
      "18  19  Prague17               Jan Fri?ek      MAM     84.5     12.549505   \n",
      "19  20  Prague17          Vlastimil Lys k      MAM     76.7      8.031414   \n",
      "20  21  Prague17             Radek Dvo? k      MAM     94.5     11.886792   \n",
      "21  22  Prague17            Jind?ich Lisى      M40     67.3     13.239344   \n",
      "22  23  Prague17  Carlos Valladares Calvo      M40     59.4     12.638298   \n",
      "23  24  Prague17           Jiri Syrovatko      M45     66.1     12.128440   \n",
      "24  25  Prague17           Florian Kobler      MAM     67.4     12.878981   \n",
      "25  26  Prague17                Jan Ro?ek      NaN     23.8     13.471698   \n",
      "26  27  Prague17              Cat Simpson      WAM    129.6     12.188088   \n",
      "27  28  Prague17             Pavel Hlo?ek      MAM     82.4     11.771429   \n",
      "28  29  Prague17          Enrico Ballerin      M45     51.6     13.008403   \n",
      "29  30  Prague17         Jaroslav Jur sek      M50    104.9     11.720670   \n",
      "..  ..       ...                      ...      ...      ...           ...   \n",
      "57  58  Prague17           Michel Brucker      MAM     36.3     11.647059   \n",
      "58  59  Prague17               Mark Orton      MAM     22.7     12.728972   \n",
      "59  60  Prague17       Hannes Lilljequist      M40     45.2     11.024390   \n",
      "60  61  Prague17         Szigyarto Laszlo      M40     43.2     10.936709   \n",
      "61  62  Prague17        Jaroslav Valeri n      MAM     54.1     11.116438   \n",
      "62  63  Prague17            Ale? Kuchynka      M45     48.8     11.665339   \n",
      "63  64  Prague17           Bradley Selmes      MAM     20.7     12.420000   \n",
      "64  65  Prague17      Frederic Bonningues      M40     54.2     11.782609   \n",
      "65  66  Prague17             Barry Sacher      M45     60.3     11.708738   \n",
      "66  67  Prague17    Michal korchan Michal      MAM     48.5     11.022727   \n",
      "67  68  Prague17          Branislav Jacko      MAM     34.3     11.307692   \n",
      "68  69  Prague17             Joost Saanen      MAM     59.1     10.910769   \n",
      "69  70  Prague17              marek kolba      MAM     41.6     12.235294   \n",
      "70  71  Prague17                Roy Bruhn      M45     87.0     11.472527   \n",
      "71  72  Prague17          Martin Bo Meyer      M50     24.2     11.523810   \n",
      "72  73  Prague17               Lucie Zona      WAM     52.3     11.708955   \n",
      "73  74  Prague17          Pavel Szappanos      NaN     53.6     12.711462   \n",
      "74  75  Prague17            Radim Rimanek      MAM     66.7     11.566474   \n",
      "75  76  Prague17              Piers Ronan      MAM     23.9     12.050420   \n",
      "76  77  Prague17            Michal Karhan      MAM     40.3      8.337931   \n",
      "77  78  Prague17             Luk ? Pe?iva      MAM     30.6     11.060241   \n",
      "78  79  Prague17              Chris Smith      MAM     28.0     11.200000   \n",
      "79  80  Prague17            Martin Werner      MAM     53.9     11.802920   \n",
      "80  81  Prague17              C‚dou Gatto      NaN     38.1     11.043478   \n",
      "81  82  Prague17              Nathan Khan      MAM     35.6  11125.000000   \n",
      "82  83  Prague17         Stefano Vegliani      M55     50.0     10.830325   \n",
      "83  84  Prague17           Andrej Madliak      M40     33.6     10.130653   \n",
      "84  85  Prague17               Yoi Ohsako      M40     55.4     11.043189   \n",
      "85  86  Prague17               Simon Dunn      M45     33.2     11.066667   \n",
      "86  87  Prague17              Pavel ?imek      M40     17.9     10.848485   \n",
      "\n",
      "   CrossTraining Wall21  MarathonTime CATEGORY  \n",
      "0            NaN   1.16          2.37        A  \n",
      "1            NaN   1.23          2.59        A  \n",
      "2            NaN   1.30          2.66        A  \n",
      "3            NaN   1.32          2.68        A  \n",
      "4            NaN   1.36          2.74        A  \n",
      "5            NaN   1.32          2.78        A  \n",
      "6            NaN   1.38          2.81        A  \n",
      "7            NaN   1.41          2.84        A  \n",
      "8    ciclista 1h   1.38          2.83        A  \n",
      "9            NaN   1.35          2.86        A  \n",
      "10           NaN   1.42          2.87        A  \n",
      "11           NaN   1.40          2.87        A  \n",
      "12   ciclista 4h   1.37          2.88        A  \n",
      "13           NaN   1.41          2.88        A  \n",
      "14           NaN   1.44          2.89        A  \n",
      "15           NaN   1.45          2.90        A  \n",
      "16  ciclista 13h   1.44          2.91        A  \n",
      "17           NaN   1.44          2.91        A  \n",
      "18           NaN   1.45          2.93        A  \n",
      "19           NaN   1.41          2.94        A  \n",
      "20           NaN   1.45          2.99        A  \n",
      "21           NaN   1.50          3.04        B  \n",
      "22           NaN   1.50          3.05        B  \n",
      "23           NaN   1.48          3.09        B  \n",
      "24           NaN   1.52          3.10        B  \n",
      "25   ciclista 5h   -             3.11        B  \n",
      "26           NaN   1.54          3.12        B  \n",
      "27           NaN   1.52          3.14        B  \n",
      "28           NaN   1.50          3.15        B  \n",
      "29           NaN   1.57          3.16        B  \n",
      "..           ...    ...           ...      ...  \n",
      "57           NaN   1.72          3.51        C  \n",
      "58           NaN   1.67          3.52        C  \n",
      "59           NaN   1.77          3.52        C  \n",
      "60           NaN   1.76          3.55        C  \n",
      "61           NaN   1.63          3.55        C  \n",
      "62           NaN   1.66          3.56        C  \n",
      "63   ciclista 5h   1.69          3.56        C  \n",
      "64           NaN   1.69          3.59        C  \n",
      "65           NaN   1.88          3.62        C  \n",
      "66   ciclista 3h   1.93          3.64        C  \n",
      "67           NaN   1.74          3.64        C  \n",
      "68           NaN   1.75          3.65        C  \n",
      "69           NaN   1.80          3.67        C  \n",
      "70           NaN   1.81          3.68        D  \n",
      "71   ciclista 3h   1.76          3.69        D  \n",
      "72           NaN   1.94          3.69        D  \n",
      "73           NaN   -             3.75        D  \n",
      "74           NaN   1.90          3.76        D  \n",
      "75   ciclista 4h   1.85          3.78        D  \n",
      "76   ciclista 5h   1.94          3.80        D  \n",
      "77           NaN   1.97          3.87        D  \n",
      "78           NaN   1.97          3.89        D  \n",
      "79           NaN   1.98          3.90        D  \n",
      "80           NaN   -             3.90        D  \n",
      "81           NaN   2.05          3.92        D  \n",
      "82           NaN   2.02          3.93        D  \n",
      "83   ciclista 3h   1.94          3.93        D  \n",
      "84           NaN   1.94          3.94        D  \n",
      "85           NaN   2.05          3.95        D  \n",
      "86   ciclista 5h   2.05          3.98        D  \n",
      "\n",
      "[87 rows x 10 columns]\n"
     ]
    }
   ],
   "source": [
    "df = pd.read_csv(\"MarathonData.csv\")\n",
    "print(df)"
   ]
  },
  {
   "cell_type": "code",
   "execution_count": 133,
   "metadata": {},
   "outputs": [
    {
     "name": "stdout",
     "output_type": "stream",
     "text": [
      "(87, 6)\n",
      "--------------------------------------------------------------------------------------------\n",
      "<class 'pandas.core.frame.DataFrame'>\n",
      "RangeIndex: 87 entries, 0 to 86\n",
      "Data columns (total 6 columns):\n",
      "Category        87 non-null int64\n",
      "km4week         87 non-null float64\n",
      "sp4week         87 non-null float64\n",
      "Wall21          87 non-null float64\n",
      "MarathonTime    87 non-null float64\n",
      "CATEGORY        87 non-null int64\n",
      "dtypes: float64(4), int64(2)\n",
      "memory usage: 4.2 KB\n",
      "None\n",
      "--------------------------------------------------------------------------------------------\n",
      "        Category     km4week   sp4week     Wall21  MarathonTime   CATEGORY\n",
      "count  87.000000   87.000000  87.00000  87.000000     87.000000  87.000000\n",
      "mean    2.022989   62.347126  12.10593   1.630617      3.319080   2.390805\n",
      "std     1.397481   26.956019   1.19556   0.203014      0.376923   1.060455\n",
      "min     1.000000   17.900000   8.03000   1.160000      2.370000   1.000000\n",
      "25%     1.000000   44.200000  11.49500   1.490000      3.045000   2.000000\n",
      "50%     1.000000   58.800000  12.13000   1.630617      3.320000   2.000000\n",
      "75%     3.000000   77.500000  12.78000   1.755000      3.605000   3.000000\n",
      "max     6.000000  137.500000  14.97000   2.050000      3.980000   4.000000\n",
      "--------------------------------------------------------------------------------------------\n",
      "Category        0\n",
      "km4week         0\n",
      "sp4week         0\n",
      "Wall21          0\n",
      "MarathonTime    0\n",
      "CATEGORY        0\n",
      "dtype: int64\n",
      "--------------------------------------------------------------------------------------------\n",
      "Full duplicate count=  0\n"
     ]
    }
   ],
   "source": [
    "print(df.shape)\n",
    "print('--------------------------------------------------------------------------------------------')\n",
    "print(df.info()) #Find features which are not int/float, as they will need to be converted\n",
    "print('--------------------------------------------------------------------------------------------')\n",
    "print(df.describe())\n",
    "print('--------------------------------------------------------------------------------------------')\n",
    "print(df.isna().sum())\n",
    "print('--------------------------------------------------------------------------------------------')\n",
    "print('Full duplicate count= ', sum(df.duplicated()))"
   ]
  },
  {
   "cell_type": "code",
   "execution_count": 6,
   "metadata": {},
   "outputs": [],
   "source": [
    "#Drop id-like columns or columns which have very few values\n",
    "df.drop(['id', 'Marathon', 'Name', 'CrossTraining'], axis='columns', inplace=True)"
   ]
  },
  {
   "cell_type": "code",
   "execution_count": 134,
   "metadata": {},
   "outputs": [],
   "source": [
    "#Remove full duplicate rows\n",
    "df.drop_duplicates(inplace=True)"
   ]
  },
  {
   "cell_type": "code",
   "execution_count": 8,
   "metadata": {},
   "outputs": [],
   "source": [
    "#Replace missing values with mode\n",
    "df['Category'].fillna(df['Category'].mode()[0], inplace=True)\n",
    "\n",
    "#Label Encoding\n",
    "df['Category'].replace(['MAM', 'M45', 'M40', 'M50', 'M55', 'WAM'], [1, 2, 3, 4, 5, 6], inplace=True)\n",
    "df['CATEGORY'].replace(['A', 'B', 'C', 'D'], [1, 2, 3, 4], inplace=True)\n",
    "\n",
    "#Replace hyphen in Wall21 with average\n",
    "df.Wall21 = df.Wall21.str.strip()\n",
    "avg = df[df.Wall21 != '-'].Wall21.astype(float).mean()\n",
    "df.Wall21.replace('-', avg, inplace=True)\n",
    "\n",
    "#Round values to 2 decimal places in sp4week. Remove one outlier\n",
    "avg_sp4week = df[df.sp4week < 100].sp4week.mean()\n",
    "df.loc[df.sp4week > 100, 'sp4week']= avg_sp4week\n",
    "df.sp4week = round(df.sp4week, 2)"
   ]
  },
  {
   "cell_type": "code",
   "execution_count": 9,
   "metadata": {},
   "outputs": [],
   "source": [
    "#Convert all object-type features to int/float\n",
    "df.Wall21 = df.Wall21.astype(float) \n",
    "df.Category = df.Category.astype(int)\n",
    "df.Wall21 = df.Wall21.astype(float)"
   ]
  },
  {
   "cell_type": "code",
   "execution_count": 118,
   "metadata": {},
   "outputs": [
    {
     "data": {
      "text/plain": [
       "<matplotlib.axes._subplots.AxesSubplot at 0x7f3deb931d68>"
      ]
     },
     "execution_count": 118,
     "metadata": {},
     "output_type": "execute_result"
    },
    {
     "data": {
      "image/png": "[encoded data removed]",
      "text/plain": [
       "<Figure size 432x288 with 1 Axes>"
      ]
     },
     "metadata": {},
     "output_type": "display_data"
    }
   ],
   "source": [
    "sns.boxplot(x=df[\"km4week\"])"
   ]
  },
  {
   "cell_type": "code",
   "execution_count": 111,
   "metadata": {},
   "outputs": [
    {
     "name": "stdout",
     "output_type": "stream",
     "text": [
      "********  Category  *********\n",
      "avg=  2.0229885057471266 low=  -2.0 upper=  4.5\n",
      "No Outliers !\n",
      "********  km4week  *********\n",
      "avg=  62.34712643678161 low=  -5.749999999999993 upper=  4.5\n",
      "3  outliers exist ... \n",
      "132.8\n",
      "137.5\n",
      "129.6\n",
      "********  sp4week  *********\n",
      "avg=  12.105930232558137 low=  9.5675 upper=  4.5\n",
      "3  outliers exist ... \n",
      "14.97\n",
      " 8.03\n",
      " 8.34\n",
      "********  Wall21  *********\n",
      "avg=  1.6306172839506174 low=  1.0925000000000002 upper=  4.5\n",
      "No Outliers !\n",
      "********  MarathonTime  *********\n",
      "avg=  3.319080459770115 low=  2.205 upper=  4.5\n",
      "No Outliers !\n",
      "********  CATEGORY  *********\n",
      "avg=  2.3908045977011496 low=  0.5 upper=  4.5\n",
      "No Outliers !\n"
     ]
    }
   ],
   "source": [
    "# Print outliers\n",
    "for c in df.columns:\n",
    "    df1 = pd.DataFrame(df[c])\n",
    "        \n",
    "    if df1[c].dtype != 'object':\n",
    "        print('******** ', c, ' *********')\n",
    "        q1 = df1[c].quantile(0.25)\n",
    "        q3 = df1[c].quantile(0.75)\n",
    "        iqr = q3 - q1\n",
    "        low = q1 - (iqr * 1.5)\n",
    "        high = q3 + (iqr * 1.5)\n",
    "        avg = df1[c].mean()\n",
    "        print('avg= ', avg, 'low= ', low, 'upper= ', upper)\n",
    "        \n",
    "        outliers_cnt = df1[(df1[c] < low) | (df1[c] > high)][c].count()  \n",
    "        if  outliers_cnt > 0:\n",
    "            print(outliers_cnt, ' outliers exist ... ')\n",
    "            str_outliers = df1[(df1[c] < low) | (df1[c] > high)][c].to_string(index=False)\n",
    "            str_outliers.replace('\\n', ', ')\n",
    "            print(str_outliers)\n",
    "        else:\n",
    "            print('No Outliers !')"
   ]
  },
  {
   "cell_type": "code",
   "execution_count": 135,
   "metadata": {},
   "outputs": [
    {
     "data": {
      "text/html": [
       "<div>\n",
       "<style scoped>\n",
       "    .dataframe tbody tr th:only-of-type {\n",
       "        vertical-align: middle;\n",
       "    }\n",
       "\n",
       "    .dataframe tbody tr th {\n",
       "        vertical-align: top;\n",
       "    }\n",
       "\n",
       "    .dataframe thead th {\n",
       "        text-align: right;\n",
       "    }\n",
       "</style>\n",
       "<table border=\"1\" class=\"dataframe\">\n",
       "  <thead>\n",
       "    <tr style=\"text-align: right;\">\n",
       "      <th></th>\n",
       "      <th>Category</th>\n",
       "      <th>km4week</th>\n",
       "      <th>sp4week</th>\n",
       "      <th>Wall21</th>\n",
       "      <th>MarathonTime</th>\n",
       "      <th>CATEGORY</th>\n",
       "    </tr>\n",
       "  </thead>\n",
       "  <tbody>\n",
       "    <tr>\n",
       "      <th>Category</th>\n",
       "      <td>1.952954</td>\n",
       "      <td>5.647741</td>\n",
       "      <td>-0.137300</td>\n",
       "      <td>0.016338</td>\n",
       "      <td>0.000370</td>\n",
       "      <td>-0.020716</td>\n",
       "    </tr>\n",
       "    <tr>\n",
       "      <th>km4week</th>\n",
       "      <td>5.647741</td>\n",
       "      <td>726.626939</td>\n",
       "      <td>6.053411</td>\n",
       "      <td>-3.049843</td>\n",
       "      <td>-6.165119</td>\n",
       "      <td>-15.601190</td>\n",
       "    </tr>\n",
       "    <tr>\n",
       "      <th>sp4week</th>\n",
       "      <td>-0.137300</td>\n",
       "      <td>6.053411</td>\n",
       "      <td>1.429364</td>\n",
       "      <td>-0.144637</td>\n",
       "      <td>-0.277380</td>\n",
       "      <td>-0.730114</td>\n",
       "    </tr>\n",
       "    <tr>\n",
       "      <th>Wall21</th>\n",
       "      <td>0.016338</td>\n",
       "      <td>-3.049843</td>\n",
       "      <td>-0.144637</td>\n",
       "      <td>0.041215</td>\n",
       "      <td>0.072223</td>\n",
       "      <td>0.192939</td>\n",
       "    </tr>\n",
       "    <tr>\n",
       "      <th>MarathonTime</th>\n",
       "      <td>0.000370</td>\n",
       "      <td>-6.165119</td>\n",
       "      <td>-0.277380</td>\n",
       "      <td>0.072223</td>\n",
       "      <td>0.142071</td>\n",
       "      <td>0.383271</td>\n",
       "    </tr>\n",
       "    <tr>\n",
       "      <th>CATEGORY</th>\n",
       "      <td>-0.020716</td>\n",
       "      <td>-15.601190</td>\n",
       "      <td>-0.730114</td>\n",
       "      <td>0.192939</td>\n",
       "      <td>0.383271</td>\n",
       "      <td>1.124566</td>\n",
       "    </tr>\n",
       "  </tbody>\n",
       "</table>\n",
       "</div>"
      ],
      "text/plain": [
       "              Category     km4week   sp4week    Wall21  MarathonTime  \\\n",
       "Category      1.952954    5.647741 -0.137300  0.016338      0.000370   \n",
       "km4week       5.647741  726.626939  6.053411 -3.049843     -6.165119   \n",
       "sp4week      -0.137300    6.053411  1.429364 -0.144637     -0.277380   \n",
       "Wall21        0.016338   -3.049843 -0.144637  0.041215      0.072223   \n",
       "MarathonTime  0.000370   -6.165119 -0.277380  0.072223      0.142071   \n",
       "CATEGORY     -0.020716  -15.601190 -0.730114  0.192939      0.383271   \n",
       "\n",
       "               CATEGORY  \n",
       "Category      -0.020716  \n",
       "km4week      -15.601190  \n",
       "sp4week       -0.730114  \n",
       "Wall21         0.192939  \n",
       "MarathonTime   0.383271  \n",
       "CATEGORY       1.124566  "
      ]
     },
     "execution_count": 135,
     "metadata": {},
     "output_type": "execute_result"
    }
   ],
   "source": [
    "df.cov()"
   ]
  },
  {
   "cell_type": "code",
   "execution_count": 112,
   "metadata": {},
   "outputs": [],
   "source": [
    "#Split data frame into two- one with all the features (dfx) and one with just the target variable (dfy)\n",
    "fcols = ['Category', 'km4week', 'sp4week', 'Wall21', 'CATEGORY']\n",
    "dfx = df[fcols]\n",
    "dfy = df['MarathonTime']\n",
    "\n",
    "#Split dfx into train & test rows, similarly dfy into train & test rows. Split % = 025%\n",
    "dfx_train, dfx_test, dfy_train, dfy_test = ms.train_test_split(dfx, dfy, random_state=123)"
   ]
  },
  {
   "cell_type": "code",
   "execution_count": 113,
   "metadata": {},
   "outputs": [
    {
     "name": "stdout",
     "output_type": "stream",
     "text": [
      "(65, 5)\n",
      "(22, 5)\n",
      "(65,)\n",
      "(22,)\n"
     ]
    }
   ],
   "source": [
    "print(dfx_train.shape)\n",
    "print(dfx_test.shape)\n",
    "print(dfy_train.shape)\n",
    "print(dfy_test.shape)"
   ]
  },
  {
   "cell_type": "code",
   "execution_count": 50,
   "metadata": {},
   "outputs": [
    {
     "name": "stdout",
     "output_type": "stream",
     "text": [
      "    Category  km4week    sp4week Wall21  CATEGORY\n",
      "65         2     60.3  11.708738   1.88         3\n",
      "31         1     79.4  13.344538   1.60         2\n",
      "24         1     67.4  12.878981   1.52         2\n",
      "41         5     58.8  12.829091   1.68         2\n",
      "9          2     84.2  13.365079   1.35         1\n",
      "21         3     67.3  13.239344   1.50         2\n",
      "62         2     48.8  11.665339   1.66         3\n",
      "19         1     76.7   8.031414   1.41         1\n",
      "75         1     23.9  12.050420   1.85         4\n",
      "85         2     33.2  11.066667   2.05         4\n",
      "50         1     50.3  10.161616   1.67         3\n",
      "76         1     40.3   8.337931   1.94         4\n",
      "20         1     94.5  11.886792   1.45         1\n",
      "78         1     28.0  11.200000   1.97         4\n",
      "1          1     68.6  13.674419   1.23         1\n",
      "70         2     87.0  11.472527   1.81         4\n",
      "74         1     66.7  11.566474   1.90         4\n",
      "14         1     76.8  12.943820   1.44         1\n",
      "69         1     41.6  12.235294   1.80         3\n",
      "16         5    112.3  12.594393   1.44         1\n",
      "26         6    129.6  12.188088   1.54         2\n",
      "6          3     89.0  12.594340   1.38         1\n",
      "30         1     52.5  12.549801   1.62         2\n",
      "44         3     27.7  11.622378   1.67         2\n",
      "64         3     54.2  11.782609   1.69         3\n",
      "43         1     32.2  12.710526   1.62         2\n",
      "15         1     76.1  14.970492   1.45         1\n",
      "77         1     30.6  11.060241   1.97         4\n",
      "18         1     84.5  12.549505   1.45         1\n",
      "13         3     84.4  13.836066   1.41         1\n",
      "..       ...      ...        ...    ...       ...\n",
      "5          3     42.2  13.612903   1.32         1\n",
      "42         1     82.7  11.647887   1.78         2\n",
      "3          2    137.5  12.258544   1.32         1\n",
      "40         2     61.3  12.383838   1.59         2\n",
      "12         2     53.5  14.078947   1.37         1\n",
      "33         4    112.4  12.284153   1.58         2\n",
      "34         1    112.2  11.276382   -            2\n",
      "27         1     82.4  11.771429   1.52         2\n",
      "52         3    121.7   9.907734   1.65         3\n",
      "7          2    106.0  12.694611   1.41         1\n",
      "48         2     60.1  12.182432   1.55         2\n",
      "61         1     54.1  11.116438   1.63         3\n",
      "82         5     50.0  10.830325   2.02         4\n",
      "86         3     17.9  10.848485   2.05         4\n",
      "39         6     69.2  10.053269   1.60         2\n",
      "2          1     82.7  13.520436   1.30         1\n",
      "67         1     34.3  11.307692   1.74         3\n",
      "55         1     26.9  13.121951   1.67         3\n",
      "49         1     78.2  12.000000   1.64         3\n",
      "68         1     59.1  10.910769   1.75         3\n",
      "36         1     50.1  12.170040   1.56         2\n",
      "25         1     23.8  13.471698   -            2\n",
      "46         6     48.6  12.252101   1.66         2\n",
      "32         2     65.6  11.891239   1.51         2\n",
      "73         1     53.6  12.711462   -            4\n",
      "47         2     39.6  12.247423   1.67         2\n",
      "57         1     36.3  11.647059   1.72         3\n",
      "83         3     33.6  10.130653   1.94         4\n",
      "17         3     49.7  14.336538   1.44         1\n",
      "66         1     48.5  11.022727   1.93         3\n",
      "\n",
      "[65 rows x 5 columns]\n"
     ]
    }
   ],
   "source": [
    "print(dfx_train)"
   ]
  },
  {
   "cell_type": "code",
   "execution_count": 114,
   "metadata": {},
   "outputs": [
    {
     "data": {
      "text/plain": [
       "LinearRegression(copy_X=True, fit_intercept=True, n_jobs=1, normalize=False)"
      ]
     },
     "execution_count": 114,
     "metadata": {},
     "output_type": "execute_result"
    }
   ],
   "source": [
    "linreg = linmod.LinearRegression()\n",
    "linreg.fit(dfx_train, dfy_train)"
   ]
  },
  {
   "cell_type": "code",
   "execution_count": 149,
   "metadata": {},
   "outputs": [
    {
     "name": "stdout",
     "output_type": "stream",
     "text": [
      "[ 0.00706337 -0.00127327 -0.01795788  0.79822987  0.17481837]\n",
      "1.8820964609253217\n"
     ]
    }
   ],
   "source": [
    "print(linreg.coef_)\n",
    "print(linreg.intercept_)"
   ]
  },
  {
   "cell_type": "code",
   "execution_count": 115,
   "metadata": {},
   "outputs": [],
   "source": [
    "dfy_test_pred = linreg.predict(dfx_test)\n",
    "dfy_train_pred = linreg.predict(dfx_train)"
   ]
  },
  {
   "cell_type": "code",
   "execution_count": 116,
   "metadata": {},
   "outputs": [
    {
     "name": "stdout",
     "output_type": "stream",
     "text": [
      "MSE of train & pred=  0.004867751469141443\n",
      "MSE of test & pred=  0.007233634082200017\n"
     ]
    }
   ],
   "source": [
    "mse_train_pred = met.mean_squared_error(dfy_train, dfy_train_pred)\n",
    "mse_test_pred = met.mean_squared_error(dfy_test, dfy_test_pred)\n",
    "\n",
    "print(\"MSE of train & pred= \", mse_train_pred)\n",
    "print(\"MSE of test & pred= \", mse_test_pred)"
   ]
  },
  {
   "cell_type": "code",
   "execution_count": null,
   "metadata": {},
   "outputs": [],
   "source": []
  }
 ],
 "metadata": {
  "kernelspec": {
   "display_name": "Python 3",
   "language": "python",
   "name": "python3"
  },
  "language_info": {
   "codemirror_mode": {
    "name": "ipython",
    "version": 3
   },
   "file_extension": ".py",
   "mimetype": "text/x-python",
   "name": "python",
   "nbconvert_exporter": "python",
   "pygments_lexer": "ipython3",
   "version": "3.6.5"
  }
 },
 "nbformat": 4,
 "nbformat_minor": 2
}
