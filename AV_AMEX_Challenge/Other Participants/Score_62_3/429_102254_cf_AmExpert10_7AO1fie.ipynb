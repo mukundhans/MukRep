{
 "cells": [
  {
   "cell_type": "code",
   "execution_count": 1,
   "metadata": {
    "collapsed": true
   },
   "outputs": [],
   "source": [
    "#import libraries \n",
    "\n",
    "import numpy as np\n",
    "import pandas as pd\n",
    "import matplotlib.pyplot as plt\n",
    "import seaborn as sns\n",
    "%matplotlib inline"
   ]
  },
  {
   "cell_type": "code",
   "execution_count": 2,
   "metadata": {
    "collapsed": true
   },
   "outputs": [],
   "source": [
    "train = pd.read_csv('C:/Users/MANISH/Desktop/Analytics vidya data/AmExpert/train_amex/train.csv')\n",
    "user_history = pd.read_csv('C:/Users/MANISH/Desktop/Analytics vidya data/AmExpert/train_amex/historical_user_logs.csv')\n",
    "test = pd.read_csv('C:/Users/MANISH/Desktop/Analytics vidya data/AmExpert/test_LNMuIYp/test.csv')"
   ]
  },
  {
   "cell_type": "code",
   "execution_count": 3,
   "metadata": {
    "collapsed": true
   },
   "outputs": [],
   "source": [
    "train_ID = train['session_id']\n",
    "test_ID = test['session_id']\n",
    "\n",
    "y = train['is_click']\n",
    "train.drop('is_click',axis = 1, inplace = True)"
   ]
  },
  {
   "cell_type": "code",
   "execution_count": 4,
   "metadata": {
    "collapsed": true
   },
   "outputs": [],
   "source": [
    "train.drop('session_id',axis = 1,inplace = True)\n",
    "test.drop('session_id',axis = 1,inplace = True)"
   ]
  },
  {
   "cell_type": "code",
   "execution_count": 5,
   "metadata": {
    "collapsed": false
   },
   "outputs": [
    {
     "data": {
      "text/plain": [
       "array([ 0,  1,  2,  3,  4,  5,  8, 12], dtype=int64)"
      ]
     },
     "execution_count": 5,
     "metadata": {},
     "output_type": "execute_result"
    }
   ],
   "source": [
    "categorical_features_indices = np.where(train.dtypes != np.float)[0]\n",
    "categorical_features_indices"
   ]
  },
  {
   "cell_type": "code",
   "execution_count": 6,
   "metadata": {
    "collapsed": true
   },
   "outputs": [],
   "source": [
    "data = pd.concat([train,test],axis = 0)"
   ]
  },
  {
   "cell_type": "code",
   "execution_count": null,
   "metadata": {
    "collapsed": true
   },
   "outputs": [],
   "source": []
  },
  {
   "cell_type": "code",
   "execution_count": 7,
   "metadata": {
    "collapsed": false
   },
   "outputs": [],
   "source": [
    "data['product_category_2'] = data['product_category_2'].fillna(data['product_category_2'].mean())\n",
    "data['user_group_id'] = data['user_group_id'].fillna(data['user_group_id'].mean())\n",
    "data['gender'] = data['gender'].fillna(data['gender'].mode()[0])\n",
    "data['age_level'] = data['age_level'].fillna(data['age_level'].mean())\n",
    "data['user_depth'] = data['user_depth'].fillna(data['user_depth'].mean())\n",
    "data['city_development_index'] = data['city_development_index'].fillna(data['city_development_index'].mean())\n",
    "data['var_1'] = data['var_1'].fillna(data['var_1'].mean())"
   ]
  },
  {
   "cell_type": "code",
   "execution_count": 8,
   "metadata": {
    "collapsed": true
   },
   "outputs": [],
   "source": [
    "from scipy.stats import boxcox"
   ]
  },
  {
   "cell_type": "code",
   "execution_count": null,
   "metadata": {
    "collapsed": false
   },
   "outputs": [],
   "source": []
  },
  {
   "cell_type": "code",
   "execution_count": 9,
   "metadata": {
    "collapsed": false
   },
   "outputs": [
    {
     "data": {
      "text/html": [
       "<div>\n",
       "<table border=\"1\" class=\"dataframe\">\n",
       "  <thead>\n",
       "    <tr style=\"text-align: right;\">\n",
       "      <th></th>\n",
       "      <th>user_id</th>\n",
       "      <th>campaign_id</th>\n",
       "      <th>webpage_id</th>\n",
       "      <th>product_category_1</th>\n",
       "      <th>product_category_2</th>\n",
       "      <th>user_group_id</th>\n",
       "      <th>age_level</th>\n",
       "      <th>user_depth</th>\n",
       "      <th>city_development_index</th>\n",
       "      <th>var_1</th>\n",
       "    </tr>\n",
       "  </thead>\n",
       "  <tbody>\n",
       "    <tr>\n",
       "      <th>count</th>\n",
       "      <td>5.921490e+05</td>\n",
       "      <td>592149.000000</td>\n",
       "      <td>592149.000000</td>\n",
       "      <td>592149.000000</td>\n",
       "      <td>592149.000000</td>\n",
       "      <td>592149.000000</td>\n",
       "      <td>592149.000000</td>\n",
       "      <td>592149.000000</td>\n",
       "      <td>592149.000000</td>\n",
       "      <td>592149.000000</td>\n",
       "    </tr>\n",
       "    <tr>\n",
       "      <th>mean</th>\n",
       "      <td>5.461209e+05</td>\n",
       "      <td>292109.671470</td>\n",
       "      <td>28837.971259</td>\n",
       "      <td>3.166571</td>\n",
       "      <td>150216.320395</td>\n",
       "      <td>3.489550</td>\n",
       "      <td>2.790496</td>\n",
       "      <td>2.877995</td>\n",
       "      <td>2.558358</td>\n",
       "      <td>0.414529</td>\n",
       "    </tr>\n",
       "    <tr>\n",
       "      <th>std</th>\n",
       "      <td>3.294247e+05</td>\n",
       "      <td>132675.251267</td>\n",
       "      <td>20884.388892</td>\n",
       "      <td>1.349075</td>\n",
       "      <td>39861.636794</td>\n",
       "      <td>2.372939</td>\n",
       "      <td>1.053179</td>\n",
       "      <td>0.392586</td>\n",
       "      <td>0.787478</td>\n",
       "      <td>0.492641</td>\n",
       "    </tr>\n",
       "    <tr>\n",
       "      <th>min</th>\n",
       "      <td>4.000000e+00</td>\n",
       "      <td>82320.000000</td>\n",
       "      <td>1734.000000</td>\n",
       "      <td>1.000000</td>\n",
       "      <td>18595.000000</td>\n",
       "      <td>0.000000</td>\n",
       "      <td>0.000000</td>\n",
       "      <td>1.000000</td>\n",
       "      <td>1.000000</td>\n",
       "      <td>0.000000</td>\n",
       "    </tr>\n",
       "    <tr>\n",
       "      <th>25%</th>\n",
       "      <td>2.582460e+05</td>\n",
       "      <td>118601.000000</td>\n",
       "      <td>13787.000000</td>\n",
       "      <td>2.000000</td>\n",
       "      <td>150216.320395</td>\n",
       "      <td>2.000000</td>\n",
       "      <td>2.000000</td>\n",
       "      <td>3.000000</td>\n",
       "      <td>2.000000</td>\n",
       "      <td>0.000000</td>\n",
       "    </tr>\n",
       "    <tr>\n",
       "      <th>50%</th>\n",
       "      <td>5.313420e+05</td>\n",
       "      <td>359520.000000</td>\n",
       "      <td>13787.000000</td>\n",
       "      <td>3.000000</td>\n",
       "      <td>150216.320395</td>\n",
       "      <td>3.000000</td>\n",
       "      <td>3.000000</td>\n",
       "      <td>3.000000</td>\n",
       "      <td>2.558358</td>\n",
       "      <td>0.000000</td>\n",
       "    </tr>\n",
       "    <tr>\n",
       "      <th>75%</th>\n",
       "      <td>8.274290e+05</td>\n",
       "      <td>404347.000000</td>\n",
       "      <td>51181.000000</td>\n",
       "      <td>4.000000</td>\n",
       "      <td>150216.320395</td>\n",
       "      <td>4.000000</td>\n",
       "      <td>3.000000</td>\n",
       "      <td>3.000000</td>\n",
       "      <td>3.000000</td>\n",
       "      <td>1.000000</td>\n",
       "    </tr>\n",
       "    <tr>\n",
       "      <th>max</th>\n",
       "      <td>1.141729e+06</td>\n",
       "      <td>414149.000000</td>\n",
       "      <td>60305.000000</td>\n",
       "      <td>5.000000</td>\n",
       "      <td>450184.000000</td>\n",
       "      <td>12.000000</td>\n",
       "      <td>6.000000</td>\n",
       "      <td>3.000000</td>\n",
       "      <td>4.000000</td>\n",
       "      <td>1.000000</td>\n",
       "    </tr>\n",
       "  </tbody>\n",
       "</table>\n",
       "</div>"
      ],
      "text/plain": [
       "            user_id    campaign_id     webpage_id  product_category_1  \\\n",
       "count  5.921490e+05  592149.000000  592149.000000       592149.000000   \n",
       "mean   5.461209e+05  292109.671470   28837.971259            3.166571   \n",
       "std    3.294247e+05  132675.251267   20884.388892            1.349075   \n",
       "min    4.000000e+00   82320.000000    1734.000000            1.000000   \n",
       "25%    2.582460e+05  118601.000000   13787.000000            2.000000   \n",
       "50%    5.313420e+05  359520.000000   13787.000000            3.000000   \n",
       "75%    8.274290e+05  404347.000000   51181.000000            4.000000   \n",
       "max    1.141729e+06  414149.000000   60305.000000            5.000000   \n",
       "\n",
       "       product_category_2  user_group_id      age_level     user_depth  \\\n",
       "count       592149.000000  592149.000000  592149.000000  592149.000000   \n",
       "mean        150216.320395       3.489550       2.790496       2.877995   \n",
       "std          39861.636794       2.372939       1.053179       0.392586   \n",
       "min          18595.000000       0.000000       0.000000       1.000000   \n",
       "25%         150216.320395       2.000000       2.000000       3.000000   \n",
       "50%         150216.320395       3.000000       3.000000       3.000000   \n",
       "75%         150216.320395       4.000000       3.000000       3.000000   \n",
       "max         450184.000000      12.000000       6.000000       3.000000   \n",
       "\n",
       "       city_development_index          var_1  \n",
       "count           592149.000000  592149.000000  \n",
       "mean                 2.558358       0.414529  \n",
       "std                  0.787478       0.492641  \n",
       "min                  1.000000       0.000000  \n",
       "25%                  2.000000       0.000000  \n",
       "50%                  2.558358       0.000000  \n",
       "75%                  3.000000       1.000000  \n",
       "max                  4.000000       1.000000  "
      ]
     },
     "execution_count": 9,
     "metadata": {},
     "output_type": "execute_result"
    }
   ],
   "source": [
    "data.describe()"
   ]
  },
  {
   "cell_type": "code",
   "execution_count": 10,
   "metadata": {
    "collapsed": false
   },
   "outputs": [],
   "source": [
    "# Normalize the data \n",
    "\n",
    "for i in ['product_category_2','user_depth','city_development_index']:\n",
    "    data[i] = boxcox(data[i])[0]"
   ]
  },
  {
   "cell_type": "code",
   "execution_count": 11,
   "metadata": {
    "collapsed": true
   },
   "outputs": [],
   "source": [
    "train2 = data.iloc[:len(train),:]\n",
    "test2 = data.iloc[len(train):,:]"
   ]
  },
  {
   "cell_type": "code",
   "execution_count": 12,
   "metadata": {
    "collapsed": false
   },
   "outputs": [
    {
     "data": {
      "text/plain": [
       "array([0.07758683, 0.02250977, 0.02511761, ..., 0.05175622, 0.05988244,\n",
       "       0.07914261])"
      ]
     },
     "execution_count": 12,
     "metadata": {},
     "output_type": "execute_result"
    }
   ],
   "source": [
    "from catboost import CatBoostClassifier\n",
    "y_test = 0\n",
    "for i in range(5):\n",
    "    model = CatBoostClassifier(iterations=300, \n",
    "                               learning_rate=0.1, \n",
    "                               random_seed=i,\n",
    "                               logging_level='Silent',\n",
    "                               loss_function='Logloss',\n",
    "                               eval_metric='AUC',\n",
    "                               one_hot_max_size=5)\n",
    "    model.fit(train2,y,cat_features = categorical_features_indices)\n",
    "    y_test += model.predict_proba(test2)[:,1]\n",
    "\n",
    "# Average of the predictions\n",
    "y_test/5"
   ]
  },
  {
   "cell_type": "code",
   "execution_count": 13,
   "metadata": {
    "collapsed": false
   },
   "outputs": [],
   "source": [
    "# Assign to the sample submission \n",
    "sample = pd.DataFrame()\n",
    "sample['session_id'] = test_ID\n",
    "sample['is_click'] = y_test\n",
    "# Output to csv\n",
    "sample.to_csv('C:/Users/MANISH/Desktop/Analytics vidya data/AmExpert/train_amex/submission_10.csv',index = False)"
   ]
  },
  {
   "cell_type": "code",
   "execution_count": null,
   "metadata": {
    "collapsed": true
   },
   "outputs": [],
   "source": []
  },
  {
   "cell_type": "code",
   "execution_count": null,
   "metadata": {
    "collapsed": true
   },
   "outputs": [],
   "source": []
  },
  {
   "cell_type": "code",
   "execution_count": null,
   "metadata": {
    "collapsed": true
   },
   "outputs": [],
   "source": []
  },
  {
   "cell_type": "code",
   "execution_count": null,
   "metadata": {
    "collapsed": true
   },
   "outputs": [],
   "source": []
  },
  {
   "cell_type": "code",
   "execution_count": null,
   "metadata": {
    "collapsed": true
   },
   "outputs": [],
   "source": []
  },
  {
   "cell_type": "code",
   "execution_count": null,
   "metadata": {
    "collapsed": true
   },
   "outputs": [],
   "source": []
  },
  {
   "cell_type": "code",
   "execution_count": null,
   "metadata": {
    "collapsed": true
   },
   "outputs": [],
   "source": []
  },
  {
   "cell_type": "code",
   "execution_count": null,
   "metadata": {
    "collapsed": true
   },
   "outputs": [],
   "source": []
  },
  {
   "cell_type": "code",
   "execution_count": null,
   "metadata": {
    "collapsed": true
   },
   "outputs": [],
   "source": []
  }
 ],
 "metadata": {
  "kernelspec": {
   "display_name": "Python 3",
   "language": "python",
   "name": "python3"
  },
  "language_info": {
   "codemirror_mode": {
    "name": "ipython",
    "version": 3
   },
   "file_extension": ".py",
   "mimetype": "text/x-python",
   "name": "python",
   "nbconvert_exporter": "python",
   "pygments_lexer": "ipython3",
   "version": "3.6.0"
  }
 },
 "nbformat": 4,
 "nbformat_minor": 2
}
